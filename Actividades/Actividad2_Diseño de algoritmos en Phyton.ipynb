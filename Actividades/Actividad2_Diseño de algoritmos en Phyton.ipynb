{
  "nbformat": 4,
  "nbformat_minor": 0,
  "metadata": {
    "colab": {
      "provenance": [],
      "authorship_tag": "ABX9TyNxdE8PeK+FlJn7EllHYpC9",
      "include_colab_link": true
    },
    "kernelspec": {
      "name": "python3",
      "display_name": "Python 3"
    },
    "language_info": {
      "name": "python"
    }
  },
  "cells": [
    {
      "cell_type": "markdown",
      "metadata": {
        "id": "view-in-github",
        "colab_type": "text"
      },
      "source": [
        "<a href=\"https://colab.research.google.com/github/MariferCampos/006-IAyRN/blob/main/Actividades/Actividad2_Dise%C3%B1o%20de%20algoritmos%20en%20Phyton.ipynb\" target=\"_parent\"><img src=\"https://colab.research.google.com/assets/colab-badge.svg\" alt=\"Open In Colab\"/></a>"
      ]
    },
    {
      "cell_type": "markdown",
      "source": [
        "Actividad #2.- Diseños de algoritmos en Phyton\n",
        "\n",
        "Nombre: Maria Fernanda Campos Carrazco\n",
        "Matricula: 2015715\n",
        "Hora: V4-V6 Martes\n",
        "\n",
        "Instrucciones: Realiza los siguientes ejercicios"
      ],
      "metadata": {
        "id": "KH8qz5Dxmbf0"
      }
    },
    {
      "cell_type": "markdown",
      "source": [
        "1. Desarrolla un algoritmo que le pida al usuario por su nombre y que lo salude con su nombre, excepto si se llama “Ana”, “Juan”, y “Pedro”"
      ],
      "metadata": {
        "id": "be0FgYfLmdoV"
      }
    },
    {
      "cell_type": "code",
      "source": [
        " def Saludar():\n",
        "    nombre = input(\"Introduce tu nombre, porfavor: \")\n",
        "\n",
        "    if nombre.lower() == \"ana\" or nombre.lower() == \"juan\" or nombre.lower() == \"pedro\":\n",
        "        print(\"Lo lamento, pero no puedo saludarte\")\n",
        "    else:\n",
        "        print(\"¡Hola, \" + nombre + \"!\")\n",
        "\n",
        "Saludar()"
      ],
      "metadata": {
        "colab": {
          "base_uri": "https://localhost:8080/"
        },
        "id": "lcATRImGmd5f",
        "outputId": "59989672-1384-4842-f28f-8af50d927b6a"
      },
      "execution_count": 16,
      "outputs": [
        {
          "output_type": "stream",
          "name": "stdout",
          "text": [
            "Introduce tu nombre, porfavor: Ana\n",
            "Lo lamento, pero no puedo saludarte\n"
          ]
        }
      ]
    },
    {
      "cell_type": "markdown",
      "source": [
        "2. Desarrolla un algoritmo que por medio de una función, le pida al usuario una lista de N elementos y como resultado invierta el sentido de la lista."
      ],
      "metadata": {
        "id": "UfYtV0vssUPy"
      }
    },
    {
      "cell_type": "code",
      "source": [
        "def invertir_lista():\n",
        "    n = int(input(\"Por favor, introduce la cantidad de elementos que tendrá tu lista: \"))\n",
        "    lista = []\n",
        "\n",
        "    for a in range(n):\n",
        "        elemento = input(\"Introduce el elemento \" + str(a+1) + \": \")\n",
        "        lista.append(elemento)\n",
        "    lista_invertida = lista[::-1]\n",
        "    return lista_invertida\n",
        "lista = invertir_lista()\n",
        "print(\"Tu lista saldra a continuación de manera invertida\", lista)"
      ],
      "metadata": {
        "colab": {
          "base_uri": "https://localhost:8080/"
        },
        "id": "HJzwGlgPmeNg",
        "outputId": "5bb427d5-1a08-45ee-f1f3-ff7ee74f69e6"
      },
      "execution_count": 14,
      "outputs": [
        {
          "output_type": "stream",
          "name": "stdout",
          "text": [
            "Por favor, introduce la cantidad de elementos que tendrá tu lista: 3\n",
            "Introduce el elemento 1: pizza\n",
            "Introduce el elemento 2: tacos\n",
            "Introduce el elemento 3: cereal\n",
            "Tu lista saldra a continuación de manera invertida ['cereal', 'tacos', 'pizza']\n"
          ]
        }
      ]
    },
    {
      "cell_type": "markdown",
      "source": [
        "3. Desarrolla un algoritmo que le pregunte al usuario cuántos números de la serie de Fibonacci quiere generar y que al final los imprima."
      ],
      "metadata": {
        "id": "PR3eWDDzsZ3e"
      }
    },
    {
      "cell_type": "code",
      "source": [
        "def fibonacci(n):\n",
        "    fibonacci_series = []\n",
        "    a, b = 0, 1\n",
        "\n",
        "    for _ in range(n):\n",
        "        fibonacci_series.append(a)\n",
        "        a, b = b, a + b\n",
        "\n",
        "    return fibonacci_series\n",
        "\n",
        "def main():\n",
        "    cantidad_numeros = int(input(\"Ingresa la cantidad de números de la serie de Fibonacci deseas generar: \"))\n",
        "\n",
        "    if cantidad_numeros <= 0:\n",
        "        print(\"Ingresa un número que sea mayor que cero.\")\n",
        "        return\n",
        "\n",
        "    resultado = fibonacci(cantidad_numeros)\n",
        "    print(\"La serie de Fibonacci con\", cantidad_numeros, \"números es:\", resultado)\n",
        "\n",
        "if __name__ == \"__main__\":\n",
        "    main()"
      ],
      "metadata": {
        "colab": {
          "base_uri": "https://localhost:8080/"
        },
        "id": "qCEpQWSmnJiu",
        "outputId": "133e3308-29cb-4eb3-f32e-ae072c5e38e9"
      },
      "execution_count": 7,
      "outputs": [
        {
          "output_type": "stream",
          "name": "stdout",
          "text": [
            "Ingresa la cantidad de números de la serie de Fibonacci deseas generar: 10\n",
            "La serie de Fibonacci con 10 números es: [0, 1, 1, 2, 3, 5, 8, 13, 21, 34]\n"
          ]
        }
      ]
    },
    {
      "cell_type": "markdown",
      "source": [
        "4. Juego de adivinar el número: Crea un programa que genere un número aleatorio entre 1 y 100, y luego le pida al usuario que adivine el número. El programa debe proporcionar pistas al usuario si el número es mayor o menor que el número objetivo, y seguir solicitando un nuevo intento hasta que el usuario adivine correctamente."
      ],
      "metadata": {
        "id": "3PYkMOeksZD7"
      }
    },
    {
      "cell_type": "code",
      "source": [
        "import random\n",
        "\n",
        "def adivinar_numero():\n",
        "    numero = random.randint(1, 100)\n",
        "    intentos = 0\n",
        "\n",
        "    while True:\n",
        "        intento = int(input(\"Adivina en que numero estoy pensando (entre 1 y 100): \"))\n",
        "        intentos += 1\n",
        "\n",
        "        if intento < numero:\n",
        "            print(\"El número es mayor.\")\n",
        "        elif intento > numero:\n",
        "            print(\"El número es menor.\")\n",
        "        else:\n",
        "            print(\"¡Felicidades! ¡Solo te tomo\", intentos, \"intentos adivinar!\")\n",
        "            break\n",
        "\n",
        "if __name__ == \"__main__\":\n",
        "    print(\"Bienvenido al juego de adivinar el número.\")\n",
        "    adivinar_numero()"
      ],
      "metadata": {
        "colab": {
          "base_uri": "https://localhost:8080/"
        },
        "id": "yPWr-KxJsnLp",
        "outputId": "016d2734-b5de-4d54-b21d-0a1d1fb95f3d"
      },
      "execution_count": 8,
      "outputs": [
        {
          "output_type": "stream",
          "name": "stdout",
          "text": [
            "Bienvenido al juego de adivinar el número.\n",
            "Adivina en que numero estoy pensando (entre 1 y 100): 50\n",
            "El número es menor.\n",
            "Adivina en que numero estoy pensando (entre 1 y 100): 25\n",
            "El número es menor.\n",
            "Adivina en que numero estoy pensando (entre 1 y 100): 13\n",
            "El número es menor.\n",
            "Adivina en que numero estoy pensando (entre 1 y 100): 8\n",
            "El número es menor.\n",
            "Adivina en que numero estoy pensando (entre 1 y 100): 4\n",
            "¡Felicidades! ¡Solo te tomo 5 intentos adivinar!\n"
          ]
        }
      ]
    },
    {
      "cell_type": "markdown",
      "source": [
        "5. Ejercicio de cálculo de números primos en un rango dado: Escribe un programa que solicite al usuario un rango de números y muestre todos los números primos dentro de ese rango."
      ],
      "metadata": {
        "id": "eeqT9zUasnt8"
      }
    },
    {
      "cell_type": "code",
      "source": [
        "def primo(numero):\n",
        "    if numero < 2:\n",
        "        return False\n",
        "    for a in range(2, int(numero**0.5) + 1):\n",
        "        if numero % a == 0:\n",
        "            return False\n",
        "    return True\n",
        "\n",
        "def numeros_primos(inicio, fin):\n",
        "    primos = []\n",
        "\n",
        "    for numero in range(inicio, fin + 1):\n",
        "        if primo(numero):\n",
        "            primos.append(numero)\n",
        "\n",
        "    return primos\n",
        "\n",
        "if __name__ == \"__main__\":\n",
        "    try:\n",
        "        inicio = int(input(\"Ingresa desde que número quiere iniciar: \"))\n",
        "        fin = int(input(\"Ingresa en que número quieres terminar: \"))\n",
        "\n",
        "        if inicio < 0 or fin < 0 or fin < inicio:\n",
        "            print(\"Por favor, ingrese un rango válido.\")\n",
        "        else:\n",
        "            rango = numeros_primos(inicio, fin)\n",
        "            print(\"Números que son primos en el rango indicado\", inicio, \"a\", fin, \":\", rango)\n",
        "\n",
        "    except ValueError:\n",
        "        print(\"Por favor, ingrese valores numéricos válidos.\")"
      ],
      "metadata": {
        "colab": {
          "base_uri": "https://localhost:8080/"
        },
        "id": "HN-bRGRTsoGB",
        "outputId": "1383992e-7ef4-49c7-905a-f304313011ed"
      },
      "execution_count": 11,
      "outputs": [
        {
          "output_type": "stream",
          "name": "stdout",
          "text": [
            "Ingresa desde que número quiere iniciar: 5\n",
            "Ingresa en que número quieres terminar: 37\n",
            "Números que son primos en el rango indicado 5 a 37 : [5, 7, 11, 13, 17, 19, 23, 29, 31, 37]\n"
          ]
        }
      ]
    },
    {
      "cell_type": "markdown",
      "source": [
        "6. Ejercicio de implementación de una calculadora básica utilizando funciones: Escribe un programa que solicite al usuario dos números y realice operaciones básicas como suma, resta, multiplicación y división utilizando funciones separadas para cada operación."
      ],
      "metadata": {
        "id": "4hrK1_tDsoYe"
      }
    },
    {
      "cell_type": "code",
      "source": [
        "def suma(a, b):\n",
        "    return a + b\n",
        "\n",
        "def resta(a, b):\n",
        "    return a - b\n",
        "\n",
        "def multiplicacion(a, b):\n",
        "    return a * b\n",
        "\n",
        "def division(a, b):\n",
        "    if b != 0:\n",
        "        return a / b\n",
        "    else:\n",
        "        return \"Error. No se puede dividir entre cero\"\n",
        "\n",
        "if __name__ == \"__main__\":\n",
        "    try:\n",
        "        num1 = float(input(\"Ingresa el primer número: \"))\n",
        "        num2 = float(input(\"Ingresa el segundo número: \"))\n",
        "\n",
        "        print(\"Suma:\", suma(num1, num2))\n",
        "        print(\"Resta:\", resta(num1, num2))\n",
        "        print(\"Multiplicación:\", multiplicacion(num1, num2))\n",
        "        print(\"División:\", division(num1, num2))\n",
        "\n",
        "    except ValueError:\n",
        "        print(\"Error. Ingrese valores númericos validos\")"
      ],
      "metadata": {
        "colab": {
          "base_uri": "https://localhost:8080/"
        },
        "id": "7huGIWK5soty",
        "outputId": "4dd56c80-65b8-49bc-f674-6996f11f5c6c"
      },
      "execution_count": 12,
      "outputs": [
        {
          "output_type": "stream",
          "name": "stdout",
          "text": [
            "Ingresa el primer número: 15\n",
            "Ingresa el segundo número: 35\n",
            "Suma: 50.0\n",
            "Resta: -20.0\n",
            "Multiplicación: 525.0\n",
            "División: 0.42857142857142855\n"
          ]
        }
      ]
    }
  ]
}